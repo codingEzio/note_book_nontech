{
 "cells": [
  {
   "cell_type": "markdown",
   "metadata": {},
   "source": [
    "<hr>\n",
    "\n",
    "| 標題 | 作者 | 版本 | 出版時間 |\n",
    "| :---: | :---: | :---: | :---: |\n",
    "| *Statistics in Plain English* | Timothy C. Urdan | 3rd | *2011* |\n",
    "\n",
    "<hr>"
   ]
  },
  {
   "cell_type": "markdown",
   "metadata": {},
   "source": [
    "## Preface"
   ]
  },
  {
   "cell_type": "markdown",
   "metadata": {},
   "source": [
    "#### Uses of Statistics\n",
    "\n",
    "- .. when many data are summarized into a single number, \n",
    "    > a lot of information is lost,<br>\n",
    "    > including the fact that different people have very different experiences.\n",
    "\n",
    "- So it is important to remember that, \n",
    "    > for the most part, statistics do not provide useful information about each **individual’s** experience. <br>\n",
    "    > Rather, researchers generally use statistics to make **general** statements about a population.\n",
    "    \n",
    "\n",
    "### How to Use This Book\n",
    "\n",
    "- This book is NOT intended to \n",
    "    > be used as a primary source of information for those who are unfamiliar with statistics.<br>\n",
    "    > **Rather**, it is meant to be ***a supplement to a more detailed statistics textbook*** .."
   ]
  },
  {
   "cell_type": "markdown",
   "metadata": {},
   "source": [
    "## Chapter 01"
   ]
  },
  {
   "cell_type": "markdown",
   "metadata": {},
   "source": [
    "- In this chapter, ... including \n",
    "    - *samples* and *populations*, *methods of sampling*, *types of variables*, \n",
    "    - and the distinction between *inferential and descriptive statistics**.\n",
    "    - Finally, I provide a brief word about *different types of research designs*."
   ]
  },
  {
   "cell_type": "code",
   "execution_count": null,
   "metadata": {},
   "outputs": [],
   "source": []
  }
 ],
 "metadata": {
  "kernelspec": {
   "display_name": "Python 3",
   "language": "python",
   "name": "python3"
  },
  "language_info": {
   "codemirror_mode": {
    "name": "ipython",
    "version": 3
   },
   "file_extension": ".py",
   "mimetype": "text/x-python",
   "name": "python",
   "nbconvert_exporter": "python",
   "pygments_lexer": "ipython3",
   "version": "3.6.5"
  }
 },
 "nbformat": 4,
 "nbformat_minor": 2
}
